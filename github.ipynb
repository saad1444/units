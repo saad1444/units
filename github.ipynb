{
 "cells": [
  {
   "cell_type": "code",
   "execution_count": null,
   "id": "cad40317-f062-4ed7-86de-af0b5e0b8eb2",
   "metadata": {},
   "outputs": [],
   "source": [
    "import gradio as gr\n",
    "\n",
    "def calculate_bill(user_type, units):\n",
    "    try:\n",
    "        units = int(units)\n",
    "        if user_type.lower() == \"yes\":\n",
    "            # Government Employee Rates\n",
    "            if units <= 100:\n",
    "                rate = 2\n",
    "            elif units <= 200:\n",
    "                rate = 3\n",
    "            else:\n",
    "                rate = 5\n",
    "            bill = units * rate\n",
    "            message = (\n",
    "                f\"You used {units} units.\\n\"\n",
    "                f\"Since you are a government employee, each unit costs Rs {rate}.\\n\"\n",
    "                f\"Your total bill is: Rs {bill}\\n\"\n",
    "                \"Your bill is lower because of government employee subsidy.\"\n",
    "            )\n",
    "        elif user_type.lower() == \"no\":\n",
    "            # Normal Public Rates\n",
    "            if units <= 100:\n",
    "                rate = 8\n",
    "                extra_message = \"If you continue using electricity like this, your bill will remain the same or may reduce.\"\n",
    "            elif units <= 200:\n",
    "                rate = 15\n",
    "                extra_message = \"If you continue using electricity like this, your bill will remain the same or may reduce.\"\n",
    "            else:\n",
    "                rate = 25\n",
    "                extra_message = (\n",
    "                    \"If you keep your usage under 200 units for 6 months, \"\n",
    "                    \"your per unit cost may reduce to Rs 10–15.\"\n",
    "                )\n",
    "\n",
    "            bill = units * rate\n",
    "            message = (\n",
    "                f\"You used {units} units.\\n\"\n",
    "                f\"Each unit costs Rs {rate}.\\n\"\n",
    "                f\"Your total bill is: Rs {bill}\\n\"\n",
    "                f\"{extra_message}\"\n",
    "            )\n",
    "        else:\n",
    "            message = \"Invalid input. Please type 'yes' or 'no' for government employee.\"\n",
    "\n",
    "    except ValueError:\n",
    "        message = \"Please enter a valid number for units.\"\n",
    "\n",
    "    return message\n",
    "\n",
    "\n",
    "demo = gr.Interface(\n",
    "    fn=calculate_bill,\n",
    "    inputs=[\n",
    "        gr.Radio([\"yes\", \"no\"], label=\"Are you a government employee? (yes/no)\"),\n",
    "        gr.Textbox(label=\"Enter electricity units used\")\n",
    "    ],\n",
    "    outputs=\"text\",\n",
    "    title=\"Electricity Bill Calculator\",\n",
    "    description=\"Enter your employment status and electricity usage to calculate your bill.\"\n",
    ")\n",
    "\n",
    "demo.launch()\n"
   ]
  },
  {
   "cell_type": "code",
   "execution_count": null,
   "id": "3853464b-bc02-4b86-aa46-668d358b87cb",
   "metadata": {},
   "outputs": [],
   "source": [
    "units = int(input(\"Enter your electricity units: \"))\n"
   ]
  },
  {
   "cell_type": "code",
   "execution_count": null,
   "id": "d09e2a4b-568b-429a-ac8e-f0afcc7153b5",
   "metadata": {},
   "outputs": [],
   "source": []
  },
  {
   "cell_type": "code",
   "execution_count": null,
   "id": "f214757b-a427-43da-ad8d-0c50799d3597",
   "metadata": {},
   "outputs": [],
   "source": []
  }
 ],
 "metadata": {
  "kernelspec": {
   "display_name": "Python 3 (ipykernel)",
   "language": "python",
   "name": "python3"
  },
  "language_info": {
   "codemirror_mode": {
    "name": "ipython",
    "version": 3
   },
   "file_extension": ".py",
   "mimetype": "text/x-python",
   "name": "python",
   "nbconvert_exporter": "python",
   "pygments_lexer": "ipython3",
   "version": "3.13.3"
  }
 },
 "nbformat": 4,
 "nbformat_minor": 5
}
